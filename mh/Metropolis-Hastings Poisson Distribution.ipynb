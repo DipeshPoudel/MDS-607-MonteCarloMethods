{
 "cells": [
  {
   "cell_type": "markdown",
   "id": "41dc6ae7",
   "metadata": {
    "slideshow": {
     "slide_type": "slide"
    }
   },
   "source": [
    "# Metropolis-Hasting Sampling of Poisson Distribution"
   ]
  },
  {
   "cell_type": "markdown",
   "id": "fbfced73",
   "metadata": {
    "slideshow": {
     "slide_type": "slide"
    }
   },
   "source": [
    "## Poisson Distribution\n",
    "\n",
    "$$\n",
    "p(k|\\mu) = \\frac{\\mu^k e^{-\\mu}}{k!} \\quad \\mbox{for }k\\geq 0 \\;.\n",
    "$$\n",
    "\n",
    "where $k$ is an integer and $\\mu$ is called the shape parameter. The mean and variance of this distribution are both equal to $\\mu$."
   ]
  },
  {
   "cell_type": "markdown",
   "id": "0b150c94",
   "metadata": {
    "slideshow": {
     "slide_type": "slide"
    }
   },
   "source": [
    "## Meaning of Samplig Posisson Distribution\n",
    "\n",
    "`sampling a Poisson distribution` we mean we will obtain a set of  𝑘  values:  $k$ values: $\\{k_1, k_2, k_3, \\ldots\\}$  that follow this distribution"
   ]
  },
  {
   "cell_type": "markdown",
   "id": "79118022",
   "metadata": {
    "slideshow": {
     "slide_type": "slide"
    }
   },
   "source": [
    "## The Algorithm\n",
    "\n",
    "1. Choose an initial $k$ (call it $k_0$), having already fixed mean ($\\mu$)\n",
    "2. Given $k_i$, sample a uniform random number $x$ from 0 to 1 (so $x \\sim U(0,1)$) and propose $k' = k_i + 1$ if the $x > 0.5$, otherwise propose $k' = k_i - 1$\n",
    "3. Compute the Metropolis ratio $r = p(k'|\\mu)\\, /\\, p(k_i|\\mu)$ using the discrete Poisson distribution.\n",
    "4. Given another uniform random number $y \\sim U(0,1)$, $k_{i+1} = k'$ if $y \\leq r$, else $k_{i+1} = k_i$ (i.e., keep the same value for the next $k$).\n",
    "5. Repeat 2.-4. until you think you have enough samples of $k$.\n"
   ]
  },
  {
   "cell_type": "markdown",
   "id": "03e6be11",
   "metadata": {
    "slideshow": {
     "slide_type": "slide"
    }
   },
   "source": [
    "## Notes on Implementation"
   ]
  },
  {
   "cell_type": "markdown",
   "id": "759274e8",
   "metadata": {
    "slideshow": {
     "slide_type": "slide"
    }
   },
   "source": [
    "## Implementation"
   ]
  },
  {
   "cell_type": "markdown",
   "id": "546d492d",
   "metadata": {
    "slideshow": {
     "slide_type": "slide"
    }
   },
   "source": [
    "### Import the Necessary Libaries"
   ]
  },
  {
   "cell_type": "code",
   "execution_count": 1,
   "id": "8756c813",
   "metadata": {
    "slideshow": {
     "slide_type": "slide"
    }
   },
   "outputs": [],
   "source": [
    "import numpy as np\n",
    "from math import factorial,ceil\n",
    "import scipy.stats as stats  \n",
    "import matplotlib.pyplot as plt\n",
    "import seaborn\n",
    "plt.style.use('seaborn')"
   ]
  },
  {
   "cell_type": "markdown",
   "id": "0990ce6d",
   "metadata": {
    "slideshow": {
     "slide_type": "slide"
    }
   },
   "source": [
    "### Define Poission Distribution Function"
   ]
  },
  {
   "cell_type": "code",
   "execution_count": 2,
   "id": "d80db733",
   "metadata": {
    "slideshow": {
     "slide_type": "slide"
    }
   },
   "outputs": [],
   "source": [
    "def poisson_function(k, mean):\n",
    "    \"\"\"\n",
    "    Returns a Poisson distribution value for k with mean\n",
    "    \"\"\"\n",
    "    return mu**k * np.exp(-mean) / factorial(k)  "
   ]
  },
  {
   "cell_type": "markdown",
   "id": "eae333dd",
   "metadata": {
    "slideshow": {
     "slide_type": "slide"
    }
   },
   "source": [
    "### Intalize the Value of mean($\\mu$)  and $K_0$"
   ]
  },
  {
   "cell_type": "code",
   "execution_count": 3,
   "id": "b573378a",
   "metadata": {
    "slideshow": {
     "slide_type": "slide"
    }
   },
   "outputs": [],
   "source": [
    "mu=3.2\n",
    "k0=10"
   ]
  },
  {
   "cell_type": "markdown",
   "id": "cacfc85e",
   "metadata": {
    "slideshow": {
     "slide_type": "slide"
    }
   },
   "source": [
    "### Define Number of Steps"
   ]
  },
  {
   "cell_type": "code",
   "execution_count": 4,
   "id": "9d3f6b43",
   "metadata": {
    "slideshow": {
     "slide_type": "slide"
    }
   },
   "outputs": [],
   "source": [
    "n_steps = 10000"
   ]
  },
  {
   "cell_type": "markdown",
   "id": "f50225d7",
   "metadata": {
    "slideshow": {
     "slide_type": "slide"
    }
   },
   "source": [
    "### Generate Uniform Random Variable to be used later "
   ]
  },
  {
   "cell_type": "code",
   "execution_count": 5,
   "id": "8147bc49",
   "metadata": {
    "slideshow": {
     "slide_type": "slide"
    }
   },
   "outputs": [],
   "source": [
    "uniform_1 = stats.uniform.rvs(size=n_steps)  \n",
    "uniform_2 = stats.uniform.rvs(size=n_steps)"
   ]
  },
  {
   "cell_type": "markdown",
   "id": "02c4c997",
   "metadata": {
    "slideshow": {
     "slide_type": "slide"
    }
   },
   "source": [
    "### Intalize an empty array to store simulated result"
   ]
  },
  {
   "cell_type": "code",
   "execution_count": 6,
   "id": "018a6219",
   "metadata": {
    "slideshow": {
     "slide_type": "slide"
    }
   },
   "outputs": [],
   "source": [
    "k_array = np.zeros(n_steps, dtype=int)\n",
    "k_array[0] = k0\n",
    "accept_rate_array = []\n",
    "accept_rate_count = 0"
   ]
  },
  {
   "cell_type": "code",
   "execution_count": 7,
   "id": "2d154ede",
   "metadata": {
    "slideshow": {
     "slide_type": "slide"
    }
   },
   "outputs": [],
   "source": [
    "for i in range(0,n_steps-1):\n",
    "    k_now = k_array[i]\n",
    "    if uniform_1[i] > 0.5:\n",
    "        kp = k_now + 1          \n",
    "    else:\n",
    "        kp = max(0, k_now - 1) \n",
    "    metropolis_r = poisson_function(kp, mu) / poisson_function(k_now, mu)\n",
    "    \n",
    "    if uniform_2[i] <= metropolis_r:\n",
    "        k_array[i+1] = kp\n",
    "        accept_rate_count+=1\n",
    "        accept_rate_array.append(accept_rate_count/(i+1))\n",
    "    else:\n",
    "        k_array[i+1] = k_now\n",
    "        accept_rate_array.append(accept_rate_count/(i+1))"
   ]
  },
  {
   "cell_type": "markdown",
   "id": "dbc61b18",
   "metadata": {
    "slideshow": {
     "slide_type": "slide"
    }
   },
   "source": [
    "### Burn In Steps "
   ]
  },
  {
   "cell_type": "code",
   "execution_count": 8,
   "id": "46c8c831",
   "metadata": {
    "slideshow": {
     "slide_type": "slide"
    }
   },
   "outputs": [],
   "source": [
    "burn_in_steps = ceil(0.10*n_steps)"
   ]
  },
  {
   "cell_type": "code",
   "execution_count": 9,
   "id": "bf7536d1",
   "metadata": {
    "slideshow": {
     "slide_type": "slide"
    }
   },
   "outputs": [
    {
     "name": "stdout",
     "output_type": "stream",
     "text": [
      " MCMC mean = 3.27\n",
      "Exact mean = 3.20\n",
      "   MCMC sd = 1.79\n",
      "  Exact sd = 1.79\n"
     ]
    }
   ],
   "source": [
    "\n",
    "# Check the mean and standard deviations from the samples against exact\n",
    "print(f' MCMC mean = {np.mean(k_array[burn_in_steps:]):.2f}')\n",
    "print(f'Exact mean = {stats.poisson.mean(mu=mu):.2f}')\n",
    "print(f'   MCMC sd = {np.std(k_array[burn_in_steps:]):.2f}')\n",
    "print(f'  Exact sd = {stats.poisson.std(mu=mu):.2f}')      "
   ]
  },
  {
   "cell_type": "code",
   "execution_count": 10,
   "id": "4fc18cc2",
   "metadata": {
    "slideshow": {
     "slide_type": "slide"
    }
   },
   "outputs": [
    {
     "data": {
      "image/png": "[encoded data removed]",
      "text/plain": [
       "<Figure size 720x720 with 1 Axes>"
      ]
     },
     "metadata": {},
     "output_type": "display_data"
    }
   ],
   "source": [
    "plt.figure(figsize=(10,10))\n",
    "plt.plot(range(n_steps), k_array, color='blue')\n",
    "plt.xlabel('Steps')\n",
    "plt.ylabel('Value of $k$')\n",
    "plt.show()"
   ]
  },
  {
   "cell_type": "code",
   "execution_count": 13,
   "id": "40847d9e",
   "metadata": {
    "slideshow": {
     "slide_type": "slide"
    }
   },
   "outputs": [
    {
     "data": {
      "image/png": "[encoded data removed]",
      "text/plain": [
       "<Figure size 720x720 with 1 Axes>"
      ]
     },
     "metadata": {},
     "output_type": "display_data"
    }
   ],
   "source": [
    "plt.figure(figsize=(10,10))\n",
    "plt.plot(range(n_steps-1), accept_rate_array, color='blue')\n",
    "plt.xlabel('Steps')\n",
    "plt.ylabel('Acceptance Rate')\n",
    "plt.show()"
   ]
  }
 ],
 "metadata": {
  "celltoolbar": "Slideshow",
  "kernelspec": {
   "display_name": "Python 3 (ipykernel)",
   "language": "python",
   "name": "python3"
  },
  "language_info": {
   "codemirror_mode": {
    "name": "ipython",
    "version": 3
   },
   "file_extension": ".py",
   "mimetype": "text/x-python",
   "name": "python",
   "nbconvert_exporter": "python",
   "pygments_lexer": "ipython3",
   "version": "3.7.0"
  }
 },
 "nbformat": 4,
 "nbformat_minor": 5
}
