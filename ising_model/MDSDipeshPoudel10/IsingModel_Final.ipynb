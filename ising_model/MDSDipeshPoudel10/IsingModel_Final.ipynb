{
 "cells": [
  {
   "cell_type": "code",
   "execution_count": 26,
   "id": "530e0939",
   "metadata": {},
   "outputs": [],
   "source": [
    "import numpy as np\n",
    "from numpy.random import rand\n",
    "import matplotlib.pyplot as plt\n",
    "from scipy.sparse import spdiags,linalg,eye"
   ]
  },
  {
   "cell_type": "code",
   "execution_count": 27,
   "id": "02825d0d",
   "metadata": {},
   "outputs": [],
   "source": [
    "def init_state(grid_size=10):\n",
    "    \"\"\"\n",
    "    This Function intalizes the state for random configuration\n",
    "    \"\"\"\n",
    "    spins = np.random.choice([-1, 1], size=(grid_size, grid_size))  # random initial configuration of spins\n",
    "    return spins"
   ]
  },
  {
   "cell_type": "code",
   "execution_count": 28,
   "id": "e3b6ad93",
   "metadata": {},
   "outputs": [],
   "source": [
    "def calc_energy(spins):\n",
    "    \"\"\"\n",
    "    Compute the Energy of the given spin configuration\n",
    "    \"\"\"\n",
    "    energy = 0.0\n",
    "    for i in range(grid_size):\n",
    "        for j in range(grid_size):\n",
    "            energy-= spins[i, j] * (spins[i, (j+1)%grid_size] + spins[(i+1)%grid_size, j])\n",
    "    return energy"
   ]
  },
  {
   "cell_type": "code",
   "execution_count": 29,
   "id": "e91f84c7",
   "metadata": {},
   "outputs": [],
   "source": [
    "def calc_magnetization(spins):\n",
    "    \"\"\"\n",
    "    Calculates the Magnetization of given configuration\n",
    "    \"\"\"\n",
    "    return np.sum(spins)"
   ]
  },
  {
   "cell_type": "code",
   "execution_count": 37,
   "id": "a01abc8b",
   "metadata": {},
   "outputs": [],
   "source": [
    "def perform_simulation(n_steps, temperature, spins, grid_size):\n",
    "    \"\"\"\n",
    "    Run the Simulation\n",
    "    \"\"\"\n",
    "    # Run the Metropolis-Hastings algorithm\n",
    "    for step in range(n_steps):\n",
    "        # Choose a random spin\n",
    "        i = np.random.randint(grid_size)\n",
    "        j = np.random.randint(grid_size)\n",
    "        # Calculate the energy of the current configuration\n",
    "        E_old = calc_energy(spins)\n",
    "        # Flip the chosen spin\n",
    "        spins[i, j] = -spins[i, j]\n",
    "        # Calculate the energy of the new configuration\n",
    "        E_new = calc_energy(spins)\n",
    "        # Accept or reject the flip\n",
    "        if E_new >= E_old:\n",
    "            # Calculate acceptance probability\n",
    "            en = E_new - E_old\n",
    "            p = np.exp(-en / temperature)\n",
    "\n",
    "            # Generate a random number and accept the flip if p > r\n",
    "            r = np.random.rand()\n",
    "            if r > p:\n",
    "                spins[i, j] = -spins[i, j]\n",
    "    return spins"
   ]
  },
  {
   "cell_type": "code",
   "execution_count": 43,
   "id": "f03fa5b7",
   "metadata": {},
   "outputs": [],
   "source": [
    "n_steps=1000\n",
    "temperature=1\n",
    "grid_size=10\n",
    "init_config=init_state(grid_size=grid_size)"
   ]
  },
  {
   "cell_type": "code",
   "execution_count": 44,
   "id": "37962917",
   "metadata": {},
   "outputs": [
    {
     "data": {
      "image/png": "[encoded data removed]",
      "text/plain": [
       "<Figure size 432x288 with 1 Axes>"
      ]
     },
     "metadata": {
      "needs_background": "light"
     },
     "output_type": "display_data"
    }
   ],
   "source": [
    "plt.imshow(init_config)\n",
    "plt.savefig('initial.png')\n",
    "plt.show()"
   ]
  },
  {
   "cell_type": "code",
   "execution_count": 45,
   "id": "21b64310",
   "metadata": {},
   "outputs": [
    {
     "data": {
      "image/png": "[encoded data removed]",
      "text/plain": [
       "<Figure size 432x288 with 1 Axes>"
      ]
     },
     "metadata": {
      "needs_background": "light"
     },
     "output_type": "display_data"
    },
    {
     "data": {
      "image/png": "[encoded data removed]",
      "text/plain": [
       "<Figure size 432x288 with 1 Axes>"
      ]
     },
     "metadata": {
      "needs_background": "light"
     },
     "output_type": "display_data"
    }
   ],
   "source": [
    "# Define the grid size and the number of steps\n",
    "grid_size = 10\n",
    "n_steps = 1000\n",
    "\n",
    "# Define the range of temperatures to simulate\n",
    "temperature_range = np.linspace(1, 3, 5)\n",
    "\n",
    "# Initialize lists to store the energy and magnetization\n",
    "energy_list = []\n",
    "magnetization_list = []\n",
    "\n",
    "# Run the simulation for each temperature\n",
    "for temperature in temperature_range:\n",
    "    energy = 0.0\n",
    "    magnetization = 0.0\n",
    "    for i in range(n_steps):\n",
    "        spins = init_state(grid_size)\n",
    "        spins = perform_simulation(n_steps, temperature, spins, grid_size)\n",
    "        energy += calc_energy(spins)\n",
    "        magnetization += calc_magnetization(spins)\n",
    "    energy_list.append(energy / n_steps)\n",
    "    magnetization_list.append(magnetization / n_steps)\n",
    "\n",
    "# Plot the energy and magnetization as a function of temperature\n",
    "plt.plot(temperature_range, energy_list)\n",
    "plt.xlabel('Temperature')\n",
    "plt.ylabel('Energy')\n",
    "plt.show()\n",
    "\n",
    "plt.plot(temperature_range, magnetization_list)\n",
    "plt.xlabel('Temperature')\n",
    "plt.ylabel('Magnetization')\n",
    "plt.show()"
   ]
  },
  {
   "cell_type": "code",
   "execution_count": 51,
   "id": "cfe01d83",
   "metadata": {},
   "outputs": [],
   "source": [
    "# Define the grid size and the number of steps\n",
    "import matplotlib.gridspec as gridspec\n",
    "grid_size = 10\n",
    "n_steps = 1000\n",
    "\n",
    "# Define the temperature\n",
    "temperature = 2\n",
    "\n",
    "# Initialize a list to store the spin configurations at different times\n",
    "spins_list = []\n",
    "\n",
    "# Create a counter variable\n",
    "count = 0\n",
    "\n",
    "# Run the simulation\n",
    "spins = init_state(grid_size)\n",
    "for step in range(n_steps):\n",
    "    spins = perform_simulation(n_steps, temperature, spins, grid_size)\n",
    "    count += 1\n",
    "    if count % 50 == 0:\n",
    "        spins_list.append(spins.copy())"
   ]
  },
  {
   "cell_type": "code",
   "execution_count": 72,
   "id": "3c1399b0",
   "metadata": {},
   "outputs": [
    {
     "data": {
      "image/png": "[encoded data removed]",
      "text/plain": [
       "<Figure size 576x576 with 20 Axes>"
      ]
     },
     "metadata": {
      "needs_background": "light"
     },
     "output_type": "display_data"
    }
   ],
   "source": [
    "# Set the number of rows and columns for the grid\n",
    "n_rows = 4\n",
    "n_cols = 5\n",
    "\n",
    "# Create a grid of subplots\n",
    "fig, axes = plt.subplots(n_rows, n_cols, figsize=(8,8))\n",
    "\n",
    "# Flatten the axes array\n",
    "axes = axes.ravel()\n",
    "\n",
    "# Iterate over the spin configurations\n",
    "for i, spins in enumerate(spins_list):\n",
    "    axes[i].imshow(spins)\n",
    "    axes[i].set_title(f'At {(i*50)+50}')\n",
    "    # remove the axis labels and ticks\n",
    "    axes[i].axis('off')\n",
    "\n",
    "plt.subplots_adjust(wspace=0.5, hspace=0.5)\n",
    "plt.show()"
   ]
  },
  {
   "cell_type": "code",
   "execution_count": 73,
   "id": "cac64dcf",
   "metadata": {},
   "outputs": [
    {
     "data": {
      "text/plain": [
       "<matplotlib.image.AxesImage at 0x7f6f2c71fbe0>"
      ]
     },
     "execution_count": 73,
     "metadata": {},
     "output_type": "execute_result"
    },
    {
     "data": {
      "image/png": "[encoded data removed]",
      "text/plain": [
       "<Figure size 432x288 with 1 Axes>"
      ]
     },
     "metadata": {
      "needs_background": "light"
     },
     "output_type": "display_data"
    }
   ],
   "source": [
    "plt.imshow(spins)"
   ]
  },
  {
   "cell_type": "code",
   "execution_count": null,
   "id": "5fa2a91d",
   "metadata": {},
   "outputs": [],
   "source": []
  }
 ],
 "metadata": {
  "kernelspec": {
   "display_name": "Python 3 (ipykernel)",
   "language": "python",
   "name": "python3"
  },
  "language_info": {
   "codemirror_mode": {
    "name": "ipython",
    "version": 3
   },
   "file_extension": ".py",
   "mimetype": "text/x-python",
   "name": "python",
   "nbconvert_exporter": "python",
   "pygments_lexer": "ipython3",
   "version": "3.8.10"
  }
 },
 "nbformat": 4,
 "nbformat_minor": 5
}
