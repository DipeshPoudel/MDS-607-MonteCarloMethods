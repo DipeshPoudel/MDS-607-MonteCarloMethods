{
 "cells": [
  {
   "cell_type": "code",
   "execution_count": 3,
   "id": "530e0939",
   "metadata": {},
   "outputs": [],
   "source": [
    "import numpy as np\n",
    "from numpy.random import rand\n",
    "import matplotlib.pyplot as plt\n",
    "from scipy.sparse import spdiags,linalg,eye"
   ]
  },
  {
   "cell_type": "code",
   "execution_count": 4,
   "id": "02825d0d",
   "metadata": {},
   "outputs": [],
   "source": [
    "def init_state(grid_size=10):\n",
    "    \"\"\"\n",
    "    This Function intalizes the state for random configuration\n",
    "    \"\"\"\n",
    "    spins = np.random.choice([-1, 1], size=(grid_size, grid_size))  # random initial configuration of spins\n",
    "    return spins"
   ]
  },
  {
   "cell_type": "code",
   "execution_count": 6,
   "id": "e3b6ad93",
   "metadata": {},
   "outputs": [],
   "source": [
    "def calc_energy(spins):\n",
    "    \"\"\"\n",
    "    Compute the Energy of the given spin configuration\n",
    "    \"\"\"\n",
    "    energy = 0.0\n",
    "    for i in range(grid_size):\n",
    "        for j in range(grid_size):\n",
    "            energy-= spins[i, j] * (spins[i, (j+1)%grid_size] + spins[(i+1)%grid_size, j])\n",
    "    return energy"
   ]
  },
  {
   "cell_type": "code",
   "execution_count": 7,
   "id": "e91f84c7",
   "metadata": {},
   "outputs": [],
   "source": [
    "def calc_magnetization(spins):\n",
    "    \"\"\"\n",
    "    Calculates the Magnetization of given configuration\n",
    "    \"\"\"\n",
    "    return np.sum(spins)"
   ]
  },
  {
   "cell_type": "code",
   "execution_count": null,
   "id": "a01abc8b",
   "metadata": {},
   "outputs": [],
   "source": []
  }
 ],
 "metadata": {
  "kernelspec": {
   "display_name": "Python 3 (ipykernel)",
   "language": "python",
   "name": "python3"
  },
  "language_info": {
   "codemirror_mode": {
    "name": "ipython",
    "version": 3
   },
   "file_extension": ".py",
   "mimetype": "text/x-python",
   "name": "python",
   "nbconvert_exporter": "python",
   "pygments_lexer": "ipython3",
   "version": "3.7.0"
  }
 },
 "nbformat": 4,
 "nbformat_minor": 5
}
