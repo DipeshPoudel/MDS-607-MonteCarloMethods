{
 "cells": [
  {
   "cell_type": "code",
   "execution_count": 1,
   "id": "f9a42175",
   "metadata": {},
   "outputs": [],
   "source": [
    "import numpy as np\n",
    "import random\n",
    "import math"
   ]
  },
  {
   "cell_type": "code",
   "execution_count": 2,
   "id": "e059e4ea",
   "metadata": {},
   "outputs": [],
   "source": [
    "n=10000"
   ]
  },
  {
   "cell_type": "code",
   "execution_count": 7,
   "id": "81011405",
   "metadata": {},
   "outputs": [],
   "source": [
    "sum_value = 0.0"
   ]
  },
  {
   "cell_type": "code",
   "execution_count": 23,
   "id": "6cf64328",
   "metadata": {},
   "outputs": [],
   "source": [
    "def func_eval(x,y):\n",
    "    return math.exp(-(sum([i**2 for i in x]))-(sum([j**2 for j in y]))-((1/2)*(sum([(a-b)**2 for a,b in zip(x,y)]))))"
   ]
  },
  {
   "cell_type": "code",
   "execution_count": 24,
   "id": "47e94329",
   "metadata": {},
   "outputs": [],
   "source": [
    "for i in range(n):\n",
    "    x = [random.uniform(-5,5) for x in range(3)]\n",
    "    y = [random.uniform(-5,5) for x in range(3)]\n",
    "    sum_value = sum_value+func_eval(x,y)"
   ]
  },
  {
   "cell_type": "code",
   "execution_count": 25,
   "id": "2f08a1c7",
   "metadata": {},
   "outputs": [
    {
     "name": "stdout",
     "output_type": "stream",
     "text": [
      "0.04713366790291948\n"
     ]
    }
   ],
   "source": [
    "print(sum_value)"
   ]
  },
  {
   "cell_type": "code",
   "execution_count": 21,
   "id": "8711ebf7",
   "metadata": {},
   "outputs": [],
   "source": [
    "average = sum_value/n"
   ]
  },
  {
   "cell_type": "code",
   "execution_count": 22,
   "id": "ded3c70a",
   "metadata": {},
   "outputs": [
    {
     "name": "stdout",
     "output_type": "stream",
     "text": [
      "The value of integration is 1.804054099923223e-06\n"
     ]
    }
   ],
   "source": [
    "print(f'The value of integration is {average}')"
   ]
  },
  {
   "cell_type": "code",
   "execution_count": null,
   "id": "deb8ea88",
   "metadata": {},
   "outputs": [],
   "source": []
  }
 ],
 "metadata": {
  "kernelspec": {
   "display_name": "Python 3 (ipykernel)",
   "language": "python",
   "name": "python3"
  },
  "language_info": {
   "codemirror_mode": {
    "name": "ipython",
    "version": 3
   },
   "file_extension": ".py",
   "mimetype": "text/x-python",
   "name": "python",
   "nbconvert_exporter": "python",
   "pygments_lexer": "ipython3",
   "version": "3.7.1"
  }
 },
 "nbformat": 4,
 "nbformat_minor": 5
}
