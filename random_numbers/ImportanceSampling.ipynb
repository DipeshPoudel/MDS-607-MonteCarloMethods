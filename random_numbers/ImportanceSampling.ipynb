{
 "cells": [
  {
   "cell_type": "markdown",
   "id": "a0560e3d",
   "metadata": {},
   "source": [
    "## Simple Sampling Method"
   ]
  },
  {
   "cell_type": "code",
   "execution_count": 1,
   "id": "d78f3a2b",
   "metadata": {},
   "outputs": [],
   "source": [
    "import numpy as np\n",
    "import random"
   ]
  },
  {
   "cell_type": "code",
   "execution_count": 2,
   "id": "c1ac32c7",
   "metadata": {},
   "outputs": [],
   "source": [
    "n=10000"
   ]
  },
  {
   "cell_type": "code",
   "execution_count": 4,
   "id": "aaad7dc2",
   "metadata": {},
   "outputs": [],
   "source": [
    "sum_value = 0.0\n",
    "summ=0.0"
   ]
  },
  {
   "cell_type": "code",
   "execution_count": 5,
   "id": "e26a40f0",
   "metadata": {},
   "outputs": [],
   "source": [
    "for i in range(n):\n",
    "    x=random.random()\n",
    "    g=np.exp(-x**2)\n",
    "    sum_value=sum_value+g\n",
    "    summ = summ+g*g"
   ]
  },
  {
   "cell_type": "code",
   "execution_count": 6,
   "id": "6c686c7e",
   "metadata": {},
   "outputs": [],
   "source": [
    "MC = sum_value/n"
   ]
  },
  {
   "cell_type": "code",
   "execution_count": 7,
   "id": "1fec4a2a",
   "metadata": {},
   "outputs": [],
   "source": [
    "std_MC = summ/n-MC**2"
   ]
  },
  {
   "cell_type": "code",
   "execution_count": 9,
   "id": "24cc4fa5",
   "metadata": {},
   "outputs": [
    {
     "name": "stdout",
     "output_type": "stream",
     "text": [
      "Value of Integration from simple sampling is 0.7504716935311665\n",
      "Value of Variance for Integration from simple sampling is 0.04033618095270608\n"
     ]
    }
   ],
   "source": [
    "print(f\"Value of Integration from simple sampling is {MC}\")\n",
    "print(f\"Value of Variance for Integration from simple sampling is {std_MC}\")"
   ]
  },
  {
   "cell_type": "markdown",
   "id": "1b1217cd",
   "metadata": {},
   "source": [
    "## Importance Sampling"
   ]
  },
  {
   "cell_type": "code",
   "execution_count": 10,
   "id": "547d7da4",
   "metadata": {},
   "outputs": [],
   "source": [
    "sum_value = 0.0\n",
    "summ = 0"
   ]
  },
  {
   "cell_type": "code",
   "execution_count": null,
   "id": "dbe422a9",
   "metadata": {},
   "outputs": [],
   "source": [
    "for i in range(n):\n",
    "    x = random.random()\n",
    "    y = (np.exp(1.)/(np.exp(1.0)-1.)*(1-np.exp(-x)))\n",
    "    f = "
   ]
  }
 ],
 "metadata": {
  "kernelspec": {
   "display_name": "Python 3 (ipykernel)",
   "language": "python",
   "name": "python3"
  },
  "language_info": {
   "codemirror_mode": {
    "name": "ipython",
    "version": 3
   },
   "file_extension": ".py",
   "mimetype": "text/x-python",
   "name": "python",
   "nbconvert_exporter": "python",
   "pygments_lexer": "ipython3",
   "version": "3.7.1"
  }
 },
 "nbformat": 4,
 "nbformat_minor": 5
}
